{
 "cells": [
  {
   "cell_type": "markdown",
   "id": "c7d1fc40",
   "metadata": {},
   "source": [
    "# Diccionario"
   ]
  },
  {
   "cell_type": "markdown",
   "id": "8c248c4e",
   "metadata": {},
   "source": [
    "# Challenge\n",
    "Escribir un programa que cree un diccionario vacío y lo vaya llenado con información sobre una persona (por ejemplo nombre, edad, sexo, teléfono, correo electrónico, etc.) que se le pida al usuario. Cada vez que se añada un nuevo dato debe imprimirse el contenido del diccionario."
   ]
  },
  {
   "cell_type": "code",
   "execution_count": null,
   "id": "232a023b",
   "metadata": {},
   "outputs": [
    {
     "name": "stdout",
     "output_type": "stream",
     "text": [
      "alberto\n",
      "22\n",
      "4509654\n",
      "elisa\n",
      "1112\n",
      "43534545\n",
      "No se anhadio ningun contacto\n",
      "{'nombre': 'elisa', 'edad': '1112', 'numero': '43534545'}\n"
     ]
    }
   ],
   "source": [
    "datos={}\n",
    "while True:\n",
    "    pregunta=(input(\"Desea anhadir un nuevo contacto s/n\"))\n",
    "\n",
    "    if pregunta==\"s\" :\n",
    "\n",
    "        datos['nombre']=input(\"Ingrese su nombre\")\n",
    "        print(datos['nombre'])\n",
    "\n",
    "        datos['edad']=input(\"Ingrese su edad\")\n",
    "        print(datos['edad'])\n",
    "\n",
    "        datos['numero']=input(\"ingrese su numero\")\n",
    "        print(datos['numero'])\n",
    "\n",
    "\n",
    "    else:\n",
    "\n",
    "        print(\"No se anhadio ningun contacto\")\n",
    "        break\n",
    "    \n",
    "print (datos)"
   ]
  },
  {
   "cell_type": "code",
   "execution_count": 14,
   "id": "cf07f98e",
   "metadata": {},
   "outputs": [
    {
     "name": "stdout",
     "output_type": "stream",
     "text": [
      "\n",
      "Diccionario actualizado:\n",
      "{'nombre': 'oo'}\n",
      "----------------------------------------\n",
      "\n",
      "Diccionario actualizado:\n",
      "{'nombre': 'oo', 'edad': '23'}\n",
      "----------------------------------------\n",
      "\n",
      "Diccionario actualizado:\n",
      "{'nombre': 'oo', 'edad': '23', 'sexo': 'f'}\n",
      "----------------------------------------\n",
      "\n",
      "Diccionario actualizado:\n",
      "{'nombre': 'oo', 'edad': '23', 'sexo': 'f', 'teléfono': '22342'}\n",
      "----------------------------------------\n",
      "\n",
      "Diccionario actualizado:\n",
      "{'nombre': 'oo', 'edad': '23', 'sexo': 'f', 'teléfono': '22342', 'correo electrónico': 'eeer'}\n",
      "----------------------------------------\n"
     ]
    }
   ],
   "source": [
    "# Creamos un diccionario vacío\n",
    "persona = {}\n",
    "\n",
    "# Lista de claves que vamos a pedir\n",
    "claves = [\"nombre\", \"edad\", \"sexo\", \"teléfono\", \"correo electrónico\"]\n",
    "\n",
    "# Pedimos los datos uno por uno\n",
    "for clave in claves:\n",
    "    valor = input(f\"Ingrese el {clave} de la persona: \")\n",
    "    persona[clave] = valor  # Agregamos al diccionario\n",
    "    print(\"\\nDiccionario actualizado:\")\n",
    "    print(persona)\n",
    "    print(\"-\" * 40)\n"
   ]
  },
  {
   "cell_type": "markdown",
   "id": "29a82023",
   "metadata": {},
   "source": [
    "# Challenge"
   ]
  },
  {
   "cell_type": "code",
   "execution_count": 7,
   "id": "504f0373",
   "metadata": {},
   "outputs": [
    {
     "name": "stdout",
     "output_type": "stream",
     "text": [
      "✅ poke fue eliminado exitosamente.\n",
      "{}\n"
     ]
    }
   ],
   "source": [
    "tarjeta_personal = {}\n",
    "\n",
    "while True:\n",
    "  \n",
    "    deseo = str(input(\"Que desea hacer? (new, mod, del, esc)\"))\n",
    "\n",
    "    if deseo == 'new':\n",
    "        dat = input(\"Ingrese el nombre del dato: \")\n",
    "        valor_dato = input(f\"Ingrese el valor de {dat}: \")\n",
    "        tarjeta_personal[dat] = valor_dato\n",
    "\n",
    "    elif deseo == 'mod':\n",
    "        modi = input(\"Ingrese el valor a modificar: \")\n",
    "        if modi in tarjeta_personal:\n",
    "            nuevo_valor = input(f\"Ingrese el nuevo valor para {modi}: \")\n",
    "            tarjeta_personal[modi] = nuevo_valor\n",
    "        else:\n",
    "            print(\"❌ Ese dato no existe.\")\n",
    "\n",
    "    elif deseo == 'del':\n",
    "        dele = input(\"Ingrese el valor a eliminar: \")\n",
    "        if dele in tarjeta_personal:\n",
    "            del tarjeta_personal[dele]\n",
    "            print(f\"✅ {dele} fue eliminado exitosamente.\")\n",
    "        else:\n",
    "            print(\"❌ No se puede eliminar lo que no existe.\")\n",
    "\n",
    "    elif deseo == 'esc':\n",
    "        print(tarjeta_personal)\n",
    "        break\n",
    "\n",
    "\n"
   ]
  },
  {
   "cell_type": "markdown",
   "id": "2d2000a5",
   "metadata": {},
   "source": [
    "# Challenge 2\n",
    "Crear una agenda de contactos. El usuario puede elegir:\n",
    "\n",
    "Mostrar los contactos\n",
    "Crear contacto\n",
    "Modificar datos del contacto"
   ]
  },
  {
   "cell_type": "code",
   "execution_count": 1,
   "id": "9cdb7b80",
   "metadata": {},
   "outputs": [
    {
     "name": "stdout",
     "output_type": "stream",
     "text": [
      "El numero de raul fue agregado con exito\n",
      "\n",
      "Lista de contactos:\n",
      "raul: 222332\n"
     ]
    }
   ],
   "source": [
    "contactos={}\n",
    "\n",
    "while True:\n",
    "    confir=input(\"Elige una opcion 1)Mostrar los contactos 2)Crear un contacto 3)Modificar datos del contacto\")\n",
    "    if confir == \"1\":\n",
    "        if contactos:\n",
    "            print(\"\\nLista de contactos:\")\n",
    "            for nombre, numero in contactos.items():\n",
    "                print(f\"{nombre}: {numero}\")\n",
    "        else:\n",
    "            print(\"No hay contactos\")\n",
    "        break\n",
    "\n",
    "    elif confir == \"2\":\n",
    "        nom = input(\"Ingrese nombre del contacto: \")\n",
    "        num = input(f\"Ingrese el numero de {nom}: \")\n",
    "        contactos[nom] = num\n",
    "        print(f\"El numero de {nom} fue agregado con exito\")\n",
    "\n",
    "    elif confir == \"3\":\n",
    "        nombre = input(\"Ingrese el nombre del contacto a modificar: \")\n",
    "        if nombre in contactos:\n",
    "            nuevo_numero = input(\"Nuevo numero de teléfono: \")\n",
    "            contactos[nombre] = nuevo_numero\n",
    "            print(f\"El numero de {nombre} fue actualizado con exito\")\n",
    "        else:\n",
    "            print(\"❌ Ese contacto no existe.\")\n",
    "\n",
    "             "
   ]
  },
  {
   "cell_type": "code",
   "execution_count": null,
   "id": "15560cc8",
   "metadata": {},
   "outputs": [
    {
     "name": "stdout",
     "output_type": "stream",
     "text": [
      "No hay contactos\n"
     ]
    }
   ],
   "source": [
    "contactos = {}\n",
    "\n",
    "while True:\n",
    "    confir = input(\"Elige una opción: 1) Mostrar los contactos 2) Crear un contacto 3) Modificar datos del contacto \")\n",
    "\n",
    "    if confir == \"1\":\n",
    "        if contactos:\n",
    "            print(\"\\nLista de contactos:\")\n",
    "            for nombre, datos in contactos.items():\n",
    "                print(f\"{nombre}: Teléfono: {datos['telefono']}, Email: {datos['email']}\")\n",
    "        else:\n",
    "            print(\"No hay contactos\")\n",
    "        break\n",
    "\n",
    "    elif confir == \"2\":\n",
    "        nom = input(\"Ingrese nombre del contacto: \")\n",
    "        tel = input(f\"Ingrese el número de {nom}: \")\n",
    "        email = input(f\"Ingrese el email de {nom}: \")\n",
    "        contactos[nom] = {\n",
    "            \"telefono\": tel,\n",
    "            \"email\": email\n",
    "        }\n",
    "        print(f\"El contacto {nom} fue agregado con exito\")\n",
    "\n",
    "    elif confir == \"3\":\n",
    "        nombre = input(\"Ingrese el nombre del contacto a modificar: \")\n",
    "        if nombre in contactos:\n",
    "            nuevo_telefono = input(\"Nuevo numero de telefono (deje vacio para no modificar): \")\n",
    "            nuevo_email = input(\"Nuevo email (deje vacío para no modificar): \")\n",
    "\n",
    "            if nuevo_telefono:\n",
    "                contactos[nombre][\"telefono\"] = nuevo_telefono\n",
    "            if nuevo_email:\n",
    "                contactos[nombre][\"email\"] = nuevo_email\n",
    "\n",
    "            print(f\"El contacto {nombre} fue actualizado con exito\")\n",
    "        else:\n",
    "            print(\"Ese contacto no existe.\")\n"
   ]
  },
  {
   "cell_type": "markdown",
   "id": "569a41f9",
   "metadata": {},
   "source": [
    "# Progamacion orientada a objetos"
   ]
  },
  {
   "cell_type": "markdown",
   "id": "b3ae20ec",
   "metadata": {},
   "source": [
    "# Challenge\n",
    "Crear dos métodos para nuestro animal y ejecutar, debe ser algo específico de ese animal.\n",
    "\n",
    "Ejemplo: \"Cuando hablo, digo X\".\n",
    "Ejemplo: \"Cuando me muevo, hago X\".\n"
   ]
  },
  {
   "cell_type": "code",
   "execution_count": null,
   "id": "cc3933ef",
   "metadata": {},
   "outputs": [
    {
     "name": "stdout",
     "output_type": "stream",
     "text": [
      "Guau guau\n",
      "Cuando camino muevo la cola\n",
      "Guau guau\n"
     ]
    }
   ],
   "source": [
    "class Perro:\n",
    "\n",
    "\n",
    "    def hablar(self):\n",
    "        print(\"Guau guau\")\n",
    "\n",
    "    def mover(self):\n",
    "        print(\"Cuando camino muevo la cola\")\n",
    "\n",
    "terry = Perro()\n",
    "\n",
    "terry.hablar()\n",
    "terry.mover()\n",
    "terry.hablar()"
   ]
  },
  {
   "cell_type": "markdown",
   "id": "108fb126",
   "metadata": {},
   "source": [
    "# Challenge\n",
    "Definir una clase madre que herede a sus clases hijas dos atributos de instancia. Mostrar ambos atributos en pantalla desde los objetos de las clases hijas.\n",
    "\n",
    "Observación: Editar las clases hijas para que no se inicialicen."
   ]
  },
  {
   "cell_type": "code",
   "execution_count": 20,
   "id": "3125ca4a",
   "metadata": {},
   "outputs": [
    {
     "name": "stdout",
     "output_type": "stream",
     "text": [
      "Verdes\n",
      "castanho\n"
     ]
    }
   ],
   "source": [
    "class Madre:\n",
    "    cabeza=1\n",
    "    brazos=2\n",
    "    piernas=2\n",
    "\n",
    "    def __init__(self, cabello, ojoscol):\n",
    "        self.cabello = cabello\n",
    "        self.ojoscol = ojoscol\n",
    "\n",
    "\n",
    "class Marta(Madre):\n",
    "    pass\n",
    "class Laura(Madre):\n",
    "    pass\n",
    "\n",
    "marta=Marta(cabello=\"Rubio\",ojoscol=\"Verdes\")\n",
    "laura=Laura(cabello=\"castanho\",ojoscol=\"Marrones\")\n",
    "\n",
    "print(marta.ojoscol)\n",
    "print(laura.cabello)\n",
    "\n",
    "    \n",
    "    "
   ]
  }
 ],
 "metadata": {
  "kernelspec": {
   "display_name": "Python 3",
   "language": "python",
   "name": "python3"
  },
  "language_info": {
   "codemirror_mode": {
    "name": "ipython",
    "version": 3
   },
   "file_extension": ".py",
   "mimetype": "text/x-python",
   "name": "python",
   "nbconvert_exporter": "python",
   "pygments_lexer": "ipython3",
   "version": "3.12.10"
  }
 },
 "nbformat": 4,
 "nbformat_minor": 5
}
