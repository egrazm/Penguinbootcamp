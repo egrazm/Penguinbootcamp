{
 "cells": [
  {
   "cell_type": "markdown",
   "id": "df1efb2b",
   "metadata": {},
   "source": [
    "# Python"
   ]
  },
  {
   "cell_type": "code",
   "execution_count": 1,
   "id": "22110ba9",
   "metadata": {},
   "outputs": [
    {
     "name": "stdout",
     "output_type": "stream",
     "text": [
      "Hola mundo\n"
     ]
    }
   ],
   "source": [
    "print(\"Hola mundo\")"
   ]
  },
  {
   "cell_type": "markdown",
   "id": "b9081a96",
   "metadata": {},
   "source": [
    "# Variable\n",
    "Son espacios en la memoria donde se pueden guardar datos en nuestro programa"
   ]
  },
  {
   "cell_type": "code",
   "execution_count": 9,
   "id": "2f1bc755",
   "metadata": {},
   "outputs": [
    {
     "name": "stdout",
     "output_type": "stream",
     "text": [
      "Alex\n",
      "Gimenez\n"
     ]
    }
   ],
   "source": [
    "nombre=\"Alex\"\n",
    "apellido=\"Gimenez\"\n",
    "\n",
    "print(nombre)\n",
    "print(apellido)\n"
   ]
  },
  {
   "cell_type": "code",
   "execution_count": 10,
   "id": "06a2f3bf",
   "metadata": {},
   "outputs": [
    {
     "name": "stdout",
     "output_type": "stream",
     "text": [
      "('manzana', 'pera', 'naranja')\n"
     ]
    }
   ],
   "source": [
    "frutas= \"manzana\", \"pera\", \"naranja\"\n",
    "print(frutas)"
   ]
  },
  {
   "cell_type": "markdown",
   "id": "221e3803",
   "metadata": {},
   "source": [
    "## Tipos de datos\n",
    "- int - integer - 156\n",
    "- float - floating - 1.4\n",
    "- str - string - \"eduardo\" 'eduardo'\n",
    "- bool - boolean - TRUE - FALSE"
   ]
  },
  {
   "cell_type": "code",
   "execution_count": 2,
   "id": "a6877c5f",
   "metadata": {},
   "outputs": [
    {
     "name": "stdout",
     "output_type": "stream",
     "text": [
      "Alex 'come pan' \n"
     ]
    }
   ],
   "source": [
    "numero= 234\n",
    "num_dec = 1.34\n",
    "nombre= \"Alex 'come pan' \"\n",
    "print(nombre)\n"
   ]
  },
  {
   "cell_type": "markdown",
   "id": "9b465155",
   "metadata": {},
   "source": [
    "#  Operaciones aritmeticas\n",
    "- SUMA +\n",
    "- RESTA -\n",
    "- DIVISION /\n",
    "- MULTIPLICACION *\n",
    "- DIVISION ENTERA //"
   ]
  },
  {
   "cell_type": "code",
   "execution_count": 4,
   "id": "067a0120",
   "metadata": {},
   "outputs": [
    {
     "name": "stdout",
     "output_type": "stream",
     "text": [
      "6000\n",
      "1000\n"
     ]
    }
   ],
   "source": [
    "precio_total= 1000+5000\n",
    "print(precio_total)\n",
    "precio_descuento= precio_total-5000\n",
    "print(precio_descuento)\n",
    "\n"
   ]
  },
  {
   "cell_type": "markdown",
   "id": "f88d621e",
   "metadata": {},
   "source": [
    "## Primer challenge"
   ]
  },
  {
   "cell_type": "code",
   "execution_count": 6,
   "id": "2878223f",
   "metadata": {},
   "outputs": [
    {
     "name": "stdout",
     "output_type": "stream",
     "text": [
      "23\n",
      "9\n"
     ]
    }
   ],
   "source": [
    "#suma\n",
    "cantidad_de_manzanas= 9\n",
    "cantidad_de_naranjas= 14\n",
    "cantidad_de_frutas= cantidad_de_manzanas+cantidad_de_naranjas\n",
    "print(cantidad_de_frutas)\n",
    "#resta\n",
    "frutas_vendidas= 14\n",
    "frutas_restantes= cantidad_de_frutas-frutas_vendidas\n",
    "print(frutas_restantes)"
   ]
  },
  {
   "cell_type": "code",
   "execution_count": 13,
   "id": "81698884",
   "metadata": {},
   "outputs": [
    {
     "name": "stdout",
     "output_type": "stream",
     "text": [
      "Edu Riquelme\n"
     ]
    }
   ],
   "source": [
    "nombre=\"Edu \"\n",
    "apellido= \"Riquelme\"\n",
    "print(nombre +''+apellido)"
   ]
  },
  {
   "cell_type": "markdown",
   "id": "157c3ad0",
   "metadata": {},
   "source": [
    "## Challenge 2\n"
   ]
  },
  {
   "cell_type": "code",
   "execution_count": 14,
   "id": "c3e0aedf",
   "metadata": {},
   "outputs": [
    {
     "name": "stdout",
     "output_type": "stream",
     "text": [
      "Hola. Me llamo Ivan Perelez. Mucho gusto.\n"
     ]
    }
   ],
   "source": [
    "nombre= \"Ivan\"\n",
    "apellido=\"Perelez\"\n",
    "\n",
    "print(f\"Hola. Me llamo {nombre} {apellido}. Mucho gusto.\")"
   ]
  },
  {
   "cell_type": "code",
   "execution_count": 15,
   "id": "70dc18c1",
   "metadata": {},
   "outputs": [
    {
     "name": "stdout",
     "output_type": "stream",
     "text": [
      "yoooo\n"
     ]
    }
   ],
   "source": [
    "nombre= input(\"Introduzca su nombre: \")\n",
    "print(nombre)"
   ]
  }
 ],
 "metadata": {
  "kernelspec": {
   "display_name": "Python 3",
   "language": "python",
   "name": "python3"
  },
  "language_info": {
   "codemirror_mode": {
    "name": "ipython",
    "version": 3
   },
   "file_extension": ".py",
   "mimetype": "text/x-python",
   "name": "python",
   "nbconvert_exporter": "python",
   "pygments_lexer": "ipython3",
   "version": "3.12.10"
  }
 },
 "nbformat": 4,
 "nbformat_minor": 5
}
