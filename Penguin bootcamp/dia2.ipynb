{
 "cells": [
  {
   "cell_type": "markdown",
   "id": "4821659e",
   "metadata": {},
   "source": [
    "# Condicionales\n",
    " \n",
    "## operadores de comparacion\n",
    "\n",
    "- mayor >\n",
    "- menor <\n",
    "- mayor o igual >=\n",
    "- menor o igual<=\n",
    "- es igual ==\n",
    "- diferente !=\n",
    "\n",
    "## Palabras clave\n",
    "\n",
    "- if (si)\n",
    "- elif (sino si)\n",
    "- else ()"
   ]
  },
  {
   "cell_type": "code",
   "execution_count": 16,
   "id": "aeaa63f3",
   "metadata": {},
   "outputs": [
    {
     "name": "stdout",
     "output_type": "stream",
     "text": [
      "Es mayor puede entrar\n"
     ]
    }
   ],
   "source": [
    "edad=18\n",
    "\n",
    "if edad<18:\n",
    "    print(\"No puede entrar\")\n",
    "else:\n",
    "    print(\"Es mayor puede entrar\")"
   ]
  },
  {
   "cell_type": "code",
   "execution_count": 51,
   "id": "a7c4e7d7",
   "metadata": {},
   "outputs": [
    {
     "name": "stdout",
     "output_type": "stream",
     "text": [
      "Es menor\n"
     ]
    }
   ],
   "source": [
    "edad= int(input(\"Ingrese su edad:\"))\n",
    "\n",
    "if edad<18:\n",
    "    print(\"Es menor\")\n",
    "elif 18<= edad<65:\n",
    "    print(\"Es un adulto\")\n",
    "else:\n",
    "    print(\"es de la tercera edad\")"
   ]
  },
  {
   "cell_type": "markdown",
   "id": "21a970cc",
   "metadata": {},
   "source": [
    "## Challenge"
   ]
  },
  {
   "cell_type": "code",
   "execution_count": null,
   "id": "1df0efce",
   "metadata": {},
   "outputs": [
    {
     "name": "stdout",
     "output_type": "stream",
     "text": [
      "Hace lo que quieras\n"
     ]
    }
   ],
   "source": [
    "edad= int(input(\"Ingrese su edad:\"))\n",
    "\n",
    "if edad<18:\n",
    "    print(\"Juguito nomas\")\n",
    "elif 18<=edad<21:\n",
    "    print(\"Podes tomar pero no comprar\")\n",
    "else:\n",
    "    print(\"Hace lo que quieras\")"
   ]
  },
  {
   "cell_type": "markdown",
   "id": "1aa19b0b",
   "metadata": {},
   "source": [
    "## Operadores logicos\n",
    "\n",
    "- and\n",
    "- or\n",
    "- not"
   ]
  },
  {
   "cell_type": "markdown",
   "id": "0bdbf41a",
   "metadata": {},
   "source": [
    "# Challenge\n"
   ]
  },
  {
   "cell_type": "code",
   "execution_count": null,
   "id": "8c7bae16",
   "metadata": {},
   "outputs": [
    {
     "name": "stdout",
     "output_type": "stream",
     "text": [
      "la temperatura en celcius es 46\n",
      "Muerttete\n"
     ]
    }
   ],
   "source": [
    "temp= int(input(\"Ingrese la temperatura actual: \"))\n",
    "print(f\"la temperatura en celcius es {temp}\")\n",
    "\n",
    "if temp>=-10 and temp<=18:\n",
    "    print(\"Fresquette\")\n",
    "elif temp>=19 and temp<=30:\n",
    "    print(\"Calorette\")\n",
    "elif temp>=31 and temp<=45:\n",
    "    print(\"Hakuette\")\n",
    "else:\n",
    "    print(\"Muerttete\")"
   ]
  },
  {
   "cell_type": "markdown",
   "id": "8c4518fb",
   "metadata": {},
   "source": [
    "# Bucles\n",
    "\n",
    "- while (Mientras)\n"
   ]
  },
  {
   "cell_type": "code",
   "execution_count": null,
   "metadata": {},
   "outputs": [
    {
     "name": "stdout",
     "output_type": "stream",
     "text": [
      "Introduce otro numero\n",
      "9\n",
      "Introduce otro numero\n",
      "23\n",
      "Introduce otro numero\n",
      "4\n",
      "Introduce otro numero\n",
      "3\n",
      "Introduce otro numero\n",
      "21\n",
      "Introduce otro numero\n",
      "5\n",
      "Introduce otro numero\n",
      "4\n",
      "Introduce otro numero\n",
      "310\n",
      "Introduce otro numero\n",
      "10\n",
      "Correcto\n"
     ]
    }
   ],
   "source": [
    "num_adiv= 10\n",
    "\n",
    "num= int(input (\"Escribe un numero\"))\n",
    "\n",
    "while num_adiv!=num:\n",
    "    num=int(input(print(\"Introduce otro numero\")))\n",
    "    print(num)\n",
    "\n",
    "print(\"Correcto\")"
   ]
  },
  {
   "cell_type": "code",
   "execution_count": null,
   "id": "9ca4ab60",
   "metadata": {},
   "outputs": [
    {
     "name": "stdout",
     "output_type": "stream",
     "text": [
      "EL numero es correcto\n",
      "EL numero es correcto\n"
     ]
    }
   ],
   "source": [
    "while True:\n",
    "    numero_ingresado=int(input(\"Introduce un numero\"))\n",
    "    if numero_ingresado==num:\n",
    "        print(\"EL numero es correcto\")\n",
    "        break\n",
    "    else:\n",
    "        print(\"Numero incorrecto\")"
   ]
  },
  {
   "cell_type": "markdown",
   "id": "e83787b5",
   "metadata": {},
   "source": [
    "# Challenge"
   ]
  },
  {
   "cell_type": "code",
   "execution_count": null,
   "id": "c994dfe3",
   "metadata": {},
   "outputs": [
    {
     "name": "stdout",
     "output_type": "stream",
     "text": [
      "Incorrecto intente de nuevo\n",
      "Incorrecto intente de nuevo\n",
      "You were just the delivery boy\n"
     ]
    }
   ],
   "source": [
    "contra=input(\"Ingrese su contrasenha:\")\n",
    "\n",
    "while True:\n",
    "   val=input (\"Reingrese su contrasenha\")\n",
    "   if contra != val:\n",
    "      print(\"Incorrecto intente de nuevo\")\n",
    "   else:\n",
    "      print(\"You were just the delivery boy\") \n",
    "      break"
   ]
  },
  {
   "cell_type": "markdown",
   "id": "69355525",
   "metadata": {},
   "source": [
    "# Listas"
   ]
  },
  {
   "cell_type": "code",
   "execution_count": 52,
   "id": "5f98f260",
   "metadata": {},
   "outputs": [
    {
     "name": "stdout",
     "output_type": "stream",
     "text": [
      "banana\n",
      "['pera', 'manzana', 'banana', 'kiwi']\n",
      "['pera', 'frutilla', 'banana', 'kiwi']\n",
      "['frutilla', 'banana', 'kiwi']\n",
      "<built-in function len>\n",
      "['frutilla', 'kiwi']\n",
      "2\n"
     ]
    }
   ],
   "source": [
    "lista_frutas=[\"pera\", \"manzana\", \"banana\"]\n",
    "\n",
    "print(lista_frutas[2])\n",
    "\n",
    "# anhadir\n",
    "lista_frutas.append(\"kiwi\")\n",
    "print(lista_frutas)\n",
    "\n",
    "#modificar un elemento\n",
    "lista_frutas[1]= \"frutilla\"\n",
    "print(lista_frutas)\n",
    "\n",
    "#eliminar un elemento especifico\n",
    "lista_frutas.remove(\"pera\")\n",
    "print(lista_frutas)\n",
    "len(lista_frutas)\n",
    "print(len)\n",
    "\n",
    "#eliminar un elemento por indice\n",
    "lista_frutas.pop(1)\n",
    "print(lista_frutas)\n",
    "\n",
    "#contar elementos de la lista\n",
    "print(len(lista_frutas))"
   ]
  },
  {
   "cell_type": "markdown",
   "id": "9fe72f62",
   "metadata": {},
   "source": [
    "# Challenge\n"
   ]
  },
  {
   "cell_type": "code",
   "execution_count": 24,
   "id": "78000760",
   "metadata": {},
   "outputs": [
    {
     "name": "stdout",
     "output_type": "stream",
     "text": [
      "['sora', 'riku', 'kairi', 'mickey', 'xehanort', 'goofy']\n",
      "['sora', 'axel', 'kairi', 'mickey', 'xehanort', 'goofy']\n",
      "['sora', 'axel', 'mickey', 'xehanort', 'goofy']\n"
     ]
    }
   ],
   "source": [
    "kh_characters=[\"sora\",\"riku\",\"kairi\",\"mickey\",\"xehanort\"]\n",
    "\n",
    "kh_characters.append(\"goofy\")\n",
    "print (kh_characters)\n",
    "kh_characters[1]=\"axel\"\n",
    "print (kh_characters)\n",
    "kh_characters.pop(2)\n",
    "print (kh_characters)\n"
   ]
  },
  {
   "cell_type": "markdown",
   "id": "64ee64de",
   "metadata": {},
   "source": [
    "# For"
   ]
  },
  {
   "cell_type": "code",
   "execution_count": 26,
   "id": "2fe8dc7b",
   "metadata": {},
   "outputs": [
    {
     "name": "stdout",
     "output_type": "stream",
     "text": [
      "1\n",
      "2\n",
      "3\n",
      "4\n",
      "5\n",
      "6\n",
      "7\n"
     ]
    }
   ],
   "source": [
    "dias=[1,2,3,4,5,6,7]\n",
    "\n",
    "for i in dias:\n",
    "    print(i)"
   ]
  },
  {
   "cell_type": "markdown",
   "id": "fecd294d",
   "metadata": {},
   "source": [
    "# Challenge"
   ]
  },
  {
   "cell_type": "code",
   "execution_count": 34,
   "id": "01042f94",
   "metadata": {},
   "outputs": [
    {
     "name": "stdout",
     "output_type": "stream",
     "text": [
      "2\n",
      "4\n",
      "6\n",
      "8\n",
      "10\n",
      "12\n",
      "14\n",
      "16\n",
      "18\n",
      "20\n"
     ]
    }
   ],
   "source": [
    "for i in range(11):\n",
    "    if i == 0:\n",
    "        continue\n",
    "    i = i * 2\n",
    "    print(i)"
   ]
  },
  {
   "cell_type": "markdown",
   "id": "b6378d61",
   "metadata": {},
   "source": [
    "# Challenge"
   ]
  },
  {
   "cell_type": "code",
   "execution_count": null,
   "id": "51bbcaf9",
   "metadata": {},
   "outputs": [
    {
     "name": "stdout",
     "output_type": "stream",
     "text": [
      "chanel\n",
      "hermes\n",
      "adidas\n"
     ]
    }
   ],
   "source": [
    "marcas=['chanel','dior','prada','hermes','adidas','puma','omega','boss']\n",
    "\n",
    "for marca in marcas:\n",
    "    if len(marca) >= 6: \n",
    "        print(marca)"
   ]
  },
  {
   "cell_type": "markdown",
   "id": "9adde52c",
   "metadata": {},
   "source": [
    "# Challenge "
   ]
  },
  {
   "cell_type": "code",
   "execution_count": 50,
   "id": "4e7d257d",
   "metadata": {},
   "outputs": [
    {
     "name": "stdout",
     "output_type": "stream",
     "text": [
      "O encontrada\n",
      "O encontrada\n"
     ]
    }
   ],
   "source": [
    "frase=input (\"Ingrese una frase\")\n",
    "\n",
    "for letra in frase:\n",
    "    if letra.lower() == 'o':\n",
    "        print(\"O encontrada\")"
   ]
  }
 ],
 "metadata": {
  "kernelspec": {
   "display_name": "Python 3",
   "language": "python",
   "name": "python3"
  },
  "language_info": {
   "codemirror_mode": {
    "name": "ipython",
    "version": 3
   },
   "file_extension": ".py",
   "mimetype": "text/x-python",
   "name": "python",
   "nbconvert_exporter": "python",
   "pygments_lexer": "ipython3",
   "version": "3.12.10"
  }
 },
 "nbformat": 4,
 "nbformat_minor": 5
}
