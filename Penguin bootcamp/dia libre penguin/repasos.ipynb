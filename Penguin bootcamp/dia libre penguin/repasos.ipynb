{
 "cells": [
  {
   "cell_type": "markdown",
   "metadata": {},
   "source": [
    "# Challenge 1\n",
    "Crea un programa que gestione las tareas de una persona. Debe usar un diccionario\n",
    "para almacenar las tareas con la siguiente estructura:\n",
    "● tarea: nombre de la tarea.\n",
    "● estado: estado de la tarea (pendiente, en progreso, completada).\n",
    "El programa debe permitir al usuario:\n",
    "1. Agregar una tarea nueva.\n",
    "2. Modificar el estado de una tarea.\n",
    "3. Eliminar una tarea.\n",
    "4. Mostrar todas las tareas y su estado.\n"
   ]
  },
  {
   "cell_type": "code",
   "execution_count": 5,
   "metadata": {},
   "outputs": [
    {
     "name": "stdout",
     "output_type": "stream",
     "text": [
      "1)Agregar una nueva tarea\n",
      "2)Modificar el estado de una tarea\n",
      "3)Eliminar una tarea\n",
      "4)Mostrar todas las tareas\n",
      "5)Salir\n",
      "Estados disponibles en progreso, completado\n",
      "\n",
      " Lista de tareas\n",
      "{'ropa': 'en progreso'}: <function modificar_estado at 0x00000257E6A35760>\n",
      "\n",
      " Lista de tareas\n",
      "{'ropa': 'en progreso', 'perro': 'pendiente'}: <function modificar_estado at 0x00000257E6A35760>\n",
      "{'ropa': 'en progreso', 'perro': 'pendiente'}: <function modificar_estado at 0x00000257E6A35760>\n",
      "{'ropa': 'en progreso', 'perro': 'pendiente'}\n"
     ]
    }
   ],
   "source": [
    "tareas={}\n",
    "\n",
    "\n",
    "def menu():\n",
    "    print(\"1)Agregar una nueva tarea\")\n",
    "    print(\"2)Modificar el estado de una tarea\")\n",
    "    print(\"3)Eliminar una tarea\")\n",
    "    print(\"4)Mostrar todas las tareas\")\n",
    "    print(\"5)Salir\")\n",
    "menu()\n",
    "def agregar_tarea():\n",
    "    nombre= input(\"Ingresa el numre de la tarea\")\n",
    "    if nombre in tareas:\n",
    "        print(\"Esa tarea ya esta en la lista\")\n",
    "    else:\n",
    "        tareas[nombre]= \"pendiente\"\n",
    "\n",
    "def modificar_estado():\n",
    "    nombre=input(\"Ingrese el nombre de la tarea a modificar\")\n",
    "    if nombre in tareas:\n",
    "        print(\"Estados disponibles en progreso, completado\")\n",
    "        nuevo_estado=input(\"Ingresa el nuevo estado\")\n",
    "        if nuevo_estado in [\"en progreso\", \"completada\"]:\n",
    "            tareas[nombre] = nuevo_estado\n",
    "    else:\n",
    "        print(\"Error\")\n",
    "\n",
    "def eliminar_tarea():\n",
    "    nombre=input(\"Ingrese el nombre de la tarea a eliminar\")\n",
    "    if nombre in tareas:\n",
    "        del tareas[nombre]\n",
    "        print(f\"La tarea {nombre} fue eliminada\")\n",
    "    else:\n",
    "        print(\"No se encontro la tarea\")\n",
    "\n",
    "def muestra():\n",
    "    if not tareas:\n",
    "        print(\"Aun no hay tareas\")\n",
    "    else:\n",
    "        print(\"\\n Lista de tareas\")\n",
    "        for nombre, estado in tareas.items():\n",
    "\n",
    "            print(f\"{tareas}: {modificar_estado}\")\n",
    "\n",
    "while True:\n",
    "\n",
    "    opcion=input(\"Elige una opcion\")\n",
    "\n",
    "    if opcion==\"1\":\n",
    "        agregar_tarea()\n",
    "    elif opcion=='2':\n",
    "        modificar_estado()\n",
    "    elif opcion=='3':\n",
    "        eliminar_tarea()\n",
    "    elif opcion==\"4\":\n",
    "        muestra()\n",
    "    elif opcion==\"5\":\n",
    "        print(tareas)\n",
    "        break\n",
    "    else:\n",
    "        print(\"Opcion invalida\")"
   ]
  },
  {
   "cell_type": "markdown",
   "metadata": {},
   "source": [
    "# Challenge 2\n",
    "Crea un juego simple en el que el usuario tiene que adivinar un número secreto. El\n",
    "usuario puede hacer 3 intentos. Cada vez que falle, el programa debe decir si el número\n",
    "secreto es mayor o menor al ingresado . Si el usuario adivina, debe mostrar\n",
    "\"¡Felicidades! Adivinaste\"."
   ]
  },
  {
   "cell_type": "code",
   "execution_count": null,
   "metadata": {},
   "outputs": [
    {
     "name": "stdout",
     "output_type": "stream",
     "text": [
      "Bienvenido adivina el numero secreto\n",
      "El numere es mayor\n",
      "El numere es mayor\n",
      "El numere es mayor\n",
      "game over\n"
     ]
    }
   ],
   "source": [
    "numero_secreto= 9\n",
    "print(\"Bienvenido adivina el numero secreto\")\n",
    "\n",
    "intentos=3\n",
    "\n",
    "for intento in range(1, intentos+1):\n",
    "    numero_ingresado=int(input(\"Ingrese un numero: \"))\n",
    "    \n",
    "    if numero_ingresado==numero_secreto:\n",
    "        print(\"Adivinaste\")\n",
    "    elif numero_ingresado > numero_secreto:\n",
    "        print(\"El numero es menor\")\n",
    "    elif numero_ingresado < numero_secreto:\n",
    "        print(\"El numero es mayor\")\n",
    "    if intento == intentos:\n",
    "        print(\"game over\")"
   ]
  },
  {
   "cell_type": "markdown",
   "metadata": {},
   "source": [
    "# Challenge 3\n",
    "Crea una clase llamada Animal que tenga los atributos:\n",
    "● Nombre\n",
    "● edad\n",
    "La clase debe tener un método llamado presentarse() que imprima algo como:\n",
    "\"¡Hola! Soy [nombre] y tengo [edad] años. Luego, crea instancias de un perro y\n",
    "un gato y haz que ambos se presenten."
   ]
  },
  {
   "cell_type": "code",
   "execution_count": 19,
   "metadata": {},
   "outputs": [
    {
     "name": "stdout",
     "output_type": "stream",
     "text": [
      "Hola Soy Roxy y tengo 5 años\n",
      "Hola Soy Lulu y tengo 3 años\n"
     ]
    }
   ],
   "source": [
    "class Animal():\n",
    "    def __init__(self, nombre, edad):\n",
    "        self.nombre = nombre\n",
    "        self.edad = edad\n",
    "\n",
    "    def presentarse(self):\n",
    "        print(f\"Hola Soy {self.nombre} y tengo {self.edad} años\")\n",
    "\n",
    "perro = Animal(\"Roxy\", 5)\n",
    "gato = Animal(\"Lulu\", 3)\n",
    "\n",
    "perro.presentarse()\n",
    "gato.presentarse()"
   ]
  },
  {
   "cell_type": "markdown",
   "metadata": {},
   "source": [
    "# Challenge 4 \n",
    "Crea una clase Peluche con los atributos:\n",
    "● nombre\n",
    "● tamaño\n",
    "La clase debe tener un método abrazar() que imprima algo como: \"¡Es hora de\n",
    "abrazar a [nombre], el peluche de tamaño [tamaño]!\"\n",
    "Luego, crea un peluche y haz que sea abrazado.\n",
    "Conceptos usados:\n",
    "● Clases, Atributos, Métodos.\n"
   ]
  },
  {
   "cell_type": "code",
   "execution_count": 1,
   "metadata": {},
   "outputs": [
    {
     "name": "stdout",
     "output_type": "stream",
     "text": [
      "Es hora de abrazar a Pepe,el peluche de tamaño Enorme\n",
      "None\n"
     ]
    }
   ],
   "source": [
    "class Peluche:\n",
    "    def __init__(self,nombre,tamanho):\n",
    "        self.nombre= nombre\n",
    "        self.tamanho= tamanho\n",
    "\n",
    "    def abrazar(self):\n",
    "        print(f\"Es hora de abrazar a {self.nombre},el peluche de tamaño {self.tamanho}\")\n",
    "\n",
    "\n",
    "peluchette= Peluche(\"Pepe\",\"Enorme\")\n",
    "\n",
    "print(peluchette.abrazar())"
   ]
  },
  {
   "cell_type": "markdown",
   "metadata": {},
   "source": [
    "# Challenge 5\n",
    "Challenge 5: Multiplicar una Lista de Números\n",
    "Escribe una función llamada multiplicar_lista() que reciba una lista de números\n",
    "como parámetro y devuelva el resultado de multiplicar todos los elementos de la lista.\n"
   ]
  },
  {
   "cell_type": "code",
   "execution_count": 9,
   "metadata": {},
   "outputs": [
    {
     "name": "stdout",
     "output_type": "stream",
     "text": [
      "192\n"
     ]
    }
   ],
   "source": [
    "def multiplicar_lista(lista):\n",
    "    resultado=1\n",
    "\n",
    "    for numero in lista:\n",
    "        resultado*=numero\n",
    "    return resultado\n",
    "\n",
    "\n",
    "numeros=[2,3,4,8]\n",
    "\n",
    "print(multiplicar_lista(numeros))\n"
   ]
  },
  {
   "cell_type": "markdown",
   "metadata": {},
   "source": [
    "# Challenge 6\n",
    "Escribe una función llamada acumulador() que reciba un número n como parámetro y\n",
    "devuelva la suma de todos los números desde 1 hasta n.\n",
    "\n"
   ]
  },
  {
   "cell_type": "code",
   "execution_count": 19,
   "metadata": {},
   "outputs": [
    {
     "name": "stdout",
     "output_type": "stream",
     "text": [
      "La suma desde 1 hasta 3 es 6\n"
     ]
    }
   ],
   "source": [
    "def acu(n):\n",
    "    suma=0\n",
    "    for i in range(1,n+1):\n",
    "        suma+=i\n",
    "    return suma\n",
    "\n",
    "numero=int(input(\"Ingrese un numero\"))\n",
    "print(f\"La suma desde 1 hasta {numero} es {acu(numero)}\")"
   ]
  }
 ],
 "metadata": {
  "kernelspec": {
   "display_name": "Python 3",
   "language": "python",
   "name": "python3"
  },
  "language_info": {
   "codemirror_mode": {
    "name": "ipython",
    "version": 3
   },
   "file_extension": ".py",
   "mimetype": "text/x-python",
   "name": "python",
   "nbconvert_exporter": "python",
   "pygments_lexer": "ipython3",
   "version": "3.12.2"
  }
 },
 "nbformat": 4,
 "nbformat_minor": 2
}
