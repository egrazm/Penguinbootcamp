{
 "cells": [
  {
   "cell_type": "markdown",
   "id": "e360281b",
   "metadata": {},
   "source": [
    "# Challenge"
   ]
  },
  {
   "cell_type": "code",
   "execution_count": null,
   "id": "2f14b123",
   "metadata": {},
   "outputs": [
    {
     "name": "stdout",
     "output_type": "stream",
     "text": [
      "palabra\n"
     ]
    }
   ],
   "source": [
    "def imp():\n",
    "    palabra=\"hola coquette\"\n",
    "    print(palabra)\n",
    "\n",
    "imp()"
   ]
  },
  {
   "cell_type": "code",
   "execution_count": 3,
   "id": "891c6e5e",
   "metadata": {},
   "outputs": [
    {
     "name": "stdout",
     "output_type": "stream",
     "text": [
      "3\n"
     ]
    }
   ],
   "source": [
    "def sum(num1,num2):\n",
    "    adic=num1+num2\n",
    "    print(adic)\n",
    "\n",
    "sum(1,2)"
   ]
  },
  {
   "cell_type": "markdown",
   "id": "f7328469",
   "metadata": {},
   "source": [
    "# Challenge"
   ]
  },
  {
   "cell_type": "code",
   "execution_count": null,
   "id": "0f8ffe8e",
   "metadata": {},
   "outputs": [
    {
     "name": "stdout",
     "output_type": "stream",
     "text": [
      "No son iguales\n"
     ]
    }
   ],
   "source": [
    "def igualdad(leta,letb):\n",
    "    if leta==letb:\n",
    "        print(\"Las letras son iguales\")\n",
    "    else:\n",
    "        print(\"Las letras son diferentes\")\n",
    "\n",
    "igualdad(\"b\",\"a\")   "
   ]
  },
  {
   "cell_type": "code",
   "execution_count": 8,
   "id": "5edb03f0",
   "metadata": {},
   "outputs": [
    {
     "name": "stdout",
     "output_type": "stream",
     "text": [
      "9\n"
     ]
    }
   ],
   "source": [
    "def suma(numero1,numero2):\n",
    "    sumare = numero2 + numero1\n",
    "    return sumare\n",
    "\n",
    "suma1 = suma(5, 3)\n",
    "total = suma1 + 1\n",
    "\n",
    "print(total)\n"
   ]
  },
  {
   "cell_type": "markdown",
   "id": "e007045e",
   "metadata": {},
   "source": [
    "# CHallenge"
   ]
  },
  {
   "cell_type": "code",
   "execution_count": 18,
   "id": "349f45e7",
   "metadata": {},
   "outputs": [
    {
     "data": {
      "text/plain": [
       "True"
      ]
     },
     "execution_count": 18,
     "metadata": {},
     "output_type": "execute_result"
    }
   ],
   "source": [
    "def palnum(pal,num):\n",
    "\n",
    "    if num==len(pal):\n",
    "        return True\n",
    "    else:\n",
    "        return False\n",
    "palabra=str(input(\"Ingrese una palabra\"))\n",
    "numero=int(input(\"Ingrese un numero\"))\n",
    "palnum(palabra,numero) "
   ]
  },
  {
   "cell_type": "markdown",
   "id": "9c53465b",
   "metadata": {},
   "source": [
    "# Challenge\n",
    "Pedir al usuario que ingrese 1 palabra, luego convertir esa palabra a una lista con sus caracteres con list(). Agregar esa lista de caracteres a una lista llamada palabras_ingresadas. Repetir el proceso 3 veces. Cada vez que se agregue una lista de caracteres, imprimir la lista palabras_ingresadas."
   ]
  },
  {
   "cell_type": "code",
   "execution_count": null,
   "id": "1ada9ba4",
   "metadata": {},
   "outputs": [
    {
     "name": "stdout",
     "output_type": "stream",
     "text": [
      "[['a', 'b', 'e', 'c', 'e']]\n",
      "[['a', 'b', 'e', 'c', 'e'], ['p', 'r', 'e', 's', 'i']]\n",
      "[['a', 'b', 'e', 'c', 'e'], ['p', 'r', 'e', 's', 'i'], ['l', 'o', 'p', 'i']]\n"
     ]
    }
   ],
   "source": [
    "palabras_ingresadas = []\n",
    "\n",
    "for i in range(3):\n",
    "    palabra = input(\"Ingrese una palabra: \")\n",
    "    caracteres=list(palabra)\n",
    "    palabras_ingresadas.append(caracteres)\n",
    "    print(palabras_ingresadas)\n"
   ]
  },
  {
   "cell_type": "code",
   "execution_count": 29,
   "id": "24013dbf",
   "metadata": {},
   "outputs": [
    {
     "name": "stdout",
     "output_type": "stream",
     "text": [
      "[['a', 'a']]\n",
      "[['a', 'a'], ['b', 'b']]\n",
      "[['a', 'a'], ['b', 'b'], ['c', 'c']]\n"
     ]
    }
   ],
   "source": [
    "palabras_ingresadas=[]\n",
    "\n",
    "def listette():\n",
    "    palabra = input(\"Ingrese una palabra: \")\n",
    "    caracteres=list(palabra)\n",
    "    palabras_ingresadas.append(caracteres)\n",
    "    print(palabras_ingresadas)\n",
    "\n",
    "listette()\n",
    "listette()\n",
    "listette()"
   ]
  },
  {
   "cell_type": "markdown",
   "id": "82d8d29a",
   "metadata": {},
   "source": [
    "# Challenge\n",
    "\n",
    "lista = [['h', 'o', 'l', 'i', 's'], ['h', 'e', 'l', 'l', 'o'], ['h', 'a', 'l', 'l', 'o']]\n",
    "\n",
    "Crear una función que imprima una grilla (lista de listas), una línea por cada lista dentro de la lista principal.\n",
    "\n",
    "Ejemplo del resultado esperado:\n"
   ]
  },
  {
   "cell_type": "code",
   "execution_count": null,
   "id": "42cf0ee3",
   "metadata": {},
   "outputs": [
    {
     "name": "stdout",
     "output_type": "stream",
     "text": [
      "\n",
      " ['h', 'o', 'l', 'i', 's'] \n",
      " ['h', 'e', 'l', 'l', 'o'] \n",
      " ['h', 'a', 'l', 'l', 'o']\n"
     ]
    }
   ],
   "source": [
    "def grilla():\n",
    "    lista = [['h', 'o', 'l', 'i', 's'], ['h', 'e', 'l', 'l', 'o'], ['h', 'a', 'l', 'l', 'o']]\n",
    "    print(\"\\n\",lista[0],\"\\n\",lista[1],\"\\n\",lista[2])\n",
    "\n",
    "grilla()"
   ]
  },
  {
   "cell_type": "code",
   "execution_count": 38,
   "id": "18fc9d77",
   "metadata": {},
   "outputs": [
    {
     "name": "stdout",
     "output_type": "stream",
     "text": [
      "['h', 'o', 'l', 'i', 's']\n",
      "['h', 'e', 'l', 'l', 'o']\n",
      "['h', 'a', 'l', 'l', 'o']\n"
     ]
    }
   ],
   "source": [
    "def imprimir_grilla(grilla):\n",
    "    for i in grilla:\n",
    "        print(i)\n",
    "\n",
    "lista = [['h', 'o', 'l', 'i', 's'], ['h', 'e', 'l', 'l', 'o'], ['h', 'a', 'l', 'l', 'o']]\n",
    "imprimir_grilla(lista)"
   ]
  },
  {
   "cell_type": "code",
   "execution_count": null,
   "id": "eb2d5279",
   "metadata": {},
   "outputs": [
    {
     "name": "stdout",
     "output_type": "stream",
     "text": [
      "Bienvenido a Penword Adivina la palabra de 5 letras. Tienes 6 intentos.\n",
      "Resultado: 🟩🟩🟩🟩⬜\n",
      "La palabra debe tener exactamente 5 letras.\n",
      "La palabra debe tener exactamente 5 letras.\n"
     ]
    }
   ],
   "source": [
    "print(\"Bienvenido a Penword Adivina la palabra de 5 letras. Tienes 6 intentos.\")\n",
    "intentos=6\n",
    "longitud=5\n",
    "palabra_oculta=\"plomo\"\n",
    "\n",
    "\n",
    "for intento in range(1, intentos + 1):\n",
    "    palabra_usuario = input(f\"Intento {intento}/{intentos}: Ingresa una palabra de {longitud} letras: \")\n",
    "    \n",
    "    if len(palabra_usuario) != longitud:\n",
    "        print(f\"La palabra debe tener exactamente {longitud} letras.\")\n",
    "        continue\n",
    "    \n",
    "    if palabra_usuario == palabra_oculta:\n",
    "        print(\"¡Felicidades! Adivinaste la palabra.\")\n",
    "        break\n",
    "\n",
    "    def obtener_fila_verificada(palabra_oculta, palabra_usuario):\n",
    "        resultado = []\n",
    "        for i in range(len(palabra_usuario)):\n",
    "            if palabra_usuario[i] == palabra_oculta[i]:\n",
    "                print(palabra_oculta,palabra_usuario)\n",
    "                resultado.append(\"🟩\")  # Letra en la posicion correcta\n",
    "            elif palabra_usuario[i] in palabra_oculta:\n",
    "                resultado.append(\"🟨\")  # Letra en la posicion equivocada\n",
    "            else:\n",
    "                resultado.append(\"⬜\")  # Letra incorrecta\n",
    "        return resultado\n",
    "\n",
    "    linea_verificada = obtener_fila_verificada(palabra_oculta, palabra_usuario)\n",
    "    print(\"Resultado:\", \"\".join(linea_verificada))\n",
    "else:\n",
    "    print(f\"Lo siento, no adivinaste la palabra. La palabra era '{palabra_oculta}'.\")\n"
   ]
  }
 ],
 "metadata": {
  "kernelspec": {
   "display_name": "Python 3",
   "language": "python",
   "name": "python3"
  },
  "language_info": {
   "codemirror_mode": {
    "name": "ipython",
    "version": 3
   },
   "file_extension": ".py",
   "mimetype": "text/x-python",
   "name": "python",
   "nbconvert_exporter": "python",
   "pygments_lexer": "ipython3",
   "version": "3.12.10"
  }
 },
 "nbformat": 4,
 "nbformat_minor": 5
}
